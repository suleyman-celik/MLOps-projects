{
 "cells": [
  {
   "cell_type": "code",
   "execution_count": 1,
   "id": "7ba4a40b-75b2-4b09-b614-68449a187bba",
   "metadata": {},
   "outputs": [
    {
     "name": "stdout",
     "output_type": "stream",
     "text": [
      "Python 3.11.6\n"
     ]
    }
   ],
   "source": [
    "!python -V"
   ]
  },
  {
   "cell_type": "code",
   "execution_count": 2,
   "id": "7856d0d8-0746-4824-a51d-316c5fde7308",
   "metadata": {},
   "outputs": [
    {
     "name": "stdout",
     "output_type": "stream",
     "text": [
      "Python  : 3.11.6\n",
      "Actv Env: Not Found Conda Env\n",
      "Platform: Linux\n"
     ]
    }
   ],
   "source": [
    "import platform, sys, os\n",
    "\n",
    "print(\"Python  :\", platform.python_version())  # sys.version\n",
    "print(\"Actv Env:\", os.getenv('CONDA_DEFAULT_ENV', 'Not Found Conda Env'))\n",
    "print(\"Platform:\", platform.system())  # platform.platform()"
   ]
  },
  {
   "cell_type": "code",
   "execution_count": 3,
   "id": "2b1542f2-fdf6-4c04-a646-fd92859bc125",
   "metadata": {},
   "outputs": [
    {
     "data": {
      "text/plain": [
       "64"
      ]
     },
     "execution_count": 3,
     "metadata": {},
     "output_type": "execute_result"
    }
   ],
   "source": [
    "import numpy as np\n",
    "np.set_printoptions(precision=4)\n",
    "import pandas as pd\n",
    "import matplotlib as mpl\n",
    "import matplotlib.pyplot as plt\n",
    "import seaborn as sns\n",
    "\n",
    "import scipy\n",
    "# from statistics import mode\n",
    "# from scipy.stats import mode  ## only numeric\n",
    "# import scipy.stats as stats\n",
    "\n",
    "import os\n",
    "import sys\n",
    "import click\n",
    "import pickle\n",
    "# import argparse\n",
    "# import requests\n",
    "# import urllib.request\n",
    "from glob import glob\n",
    "\n",
    "# from tqdm import tqdm           # console-based\n",
    "# from tqdm.notebook import tqdm  # jupyter-based\n",
    "from tqdm.auto import tqdm        # automatically selects\n",
    "tqdm._instances.clear()\n",
    "tqdm.pandas()\n",
    "\n",
    "import mlflow\n",
    "import joblib\n",
    "\n",
    "## memory management performs garbage collection \n",
    "import gc; gc.collect()"
   ]
  },
  {
   "cell_type": "code",
   "execution_count": 4,
   "id": "d471e35f-1082-48d8-8516-cfb2c48c7df5",
   "metadata": {},
   "outputs": [],
   "source": [
    "## Create a new directory for storing data\n",
    "os.makedirs('./data', exist_ok=True)\n",
    "os.makedirs('./output', exist_ok=True)\n",
    "os.makedirs('./model', exist_ok=True)\n",
    "os.makedirs('./pycode', exist_ok=True)\n",
    "# os.makedirs('tests', exist_ok=True)\n",
    "# os.makedirs('integration_test', exist_ok=True)\n",
    "# os.makedirs('utils', exist_ok=True)\n",
    "## Get the current working directory\n",
    "# current_dir = os.getcwd()"
   ]
  },
  {
   "cell_type": "code",
   "execution_count": 5,
   "id": "0d5247a6-3055-44f2-9fd3-5e4d3c8e07ce",
   "metadata": {},
   "outputs": [
    {
     "name": "stdout",
     "output_type": "stream",
     "text": [
      "Name: scikit-learn\n",
      "Version: 1.5.0\n",
      "Summary: A set of python modules for machine learning and data mining\n",
      "Home-page: https://scikit-learn.org\n",
      "Author: \n",
      "Author-email: \n",
      "License: new BSD\n",
      "Location: /opt/conda/lib/python3.11/site-packages\n",
      "Requires: joblib, numpy, scipy, threadpoolctl\n",
      "Required-by: mlflow, scikit-plot, scikit-plots\n"
     ]
    }
   ],
   "source": [
    "!pip show scikit-learn"
   ]
  },
  {
   "cell_type": "markdown",
   "id": "103d9bc9-ae12-4dbf-8ab8-d2e979d56788",
   "metadata": {},
   "source": [
    "## Ingest Data [wget](https://linuxways.net/centos/linux-wget-command-with-examples/) or [curl](https://daniel.haxx.se/blog/2020/09/10/store-the-curl-output-over-there/)\n",
    "\n",
    "```sh\n",
    "## Download NYC taxi trip data\n",
    "!pip install pyarrow fastparquet\n",
    "!curl -s -O --create-dirs --output-dir \"./data\" \"https://github.com/DataTalksClub/nyc-tlc-data/releases/download/green/green_tripdata_2019-09.csv.gz\"\n",
    "!curl -s -O --create-dirs --output-dir \"./data\" \"https://d37ci6vzurychx.cloudfront.net/trip-data/green_tripdata_2019-09.parquet\"\n",
    "!wget -q -N -P \"./data\" \"https://d37ci6vzurychx.cloudfront.net/misc/taxi_zone_lookup.csv\"\n",
    "```"
   ]
  },
  {
   "cell_type": "code",
   "execution_count": 6,
   "id": "6738b452-8c96-4f48-bf82-7786e2fdbcae",
   "metadata": {},
   "outputs": [],
   "source": [
    "!wget -q -N -P \"./data\" \"https://s3.amazonaws.com/tripdata/JC-202402-citibike-tripdata.csv.zip\"\n",
    "!wget -q -N -P \"./data\" \"https://s3.amazonaws.com/tripdata/JC-202403-citibike-tripdata.csv.zip\"\n",
    "!wget -q -N -P \"./data\" \"https://s3.amazonaws.com/tripdata/JC-202404-citibike-tripdata.csv.zip\""
   ]
  },
  {
   "cell_type": "code",
   "execution_count": 7,
   "id": "4b80ce34-b194-41ad-9fa6-e877209533ce",
   "metadata": {},
   "outputs": [
    {
     "name": "stdout",
     "output_type": "stream",
     "text": [
      "Extracted files: ['JC-202404-citibike-tripdata.csv', 'JC-202402-citibike-tripdata.csv.zip', 'JC-202404-citibike-tripdata.parquet', 'JC-202402-citibike-tripdata.csv', '__MACOSX', '.ipynb_checkpoints', 'JC-202403-citibike-tripdata.csv.zip', 'JC-202404-citibike-tripdata.csv.zip', 'JC-202403-citibike-tripdata.csv', 'JC-202402-citibike-tripdata.parquet']\n"
     ]
    }
   ],
   "source": [
    "import zipfile\n",
    "import os\n",
    "import io\n",
    "\n",
    "# Define the paths\n",
    "zip_file_path  = 'data/JC-20240{}-citibike-tripdata.csv.zip'\n",
    "extract_path   = 'data/'\n",
    "for i in range(2,5):\n",
    "    # Open the ZIP file and extract its contents\n",
    "    with zipfile.ZipFile(zip_file_path.format(i), 'r') as zip_ref:\n",
    "        zip_ref.extractall(extract_path)\n",
    "\n",
    "# Verify the extraction\n",
    "extracted_files = os.listdir(extract_path)\n",
    "print(f\"Extracted files: {extracted_files}\")"
   ]
  },
  {
   "cell_type": "code",
   "execution_count": 8,
   "id": "fe9875ac-34a3-469a-8b38-ce13a3c2e36c",
   "metadata": {},
   "outputs": [
    {
     "data": {
      "text/plain": [
       "['./data/JC-202404-citibike-tripdata.csv',\n",
       " './data/JC-202402-citibike-tripdata.csv',\n",
       " './data/JC-202403-citibike-tripdata.csv']"
      ]
     },
     "execution_count": 8,
     "metadata": {},
     "output_type": "execute_result"
    }
   ],
   "source": [
    "glob(f'./data/*.csv')"
   ]
  },
  {
   "cell_type": "code",
   "execution_count": 9,
   "id": "a7b46ccf-6fde-448c-b237-ae3df8553c8f",
   "metadata": {},
   "outputs": [
    {
     "name": "stdout",
     "output_type": "stream",
     "text": [
      "<class 'pandas.core.frame.DataFrame'>\n",
      "RangeIndex: 55613 entries, 0 to 55612\n",
      "Data columns (total 13 columns):\n",
      " #   Column              Non-Null Count  Dtype  \n",
      "---  ------              --------------  -----  \n",
      " 0   ride_id             55613 non-null  object \n",
      " 1   rideable_type       55613 non-null  object \n",
      " 2   started_at          55613 non-null  object \n",
      " 3   ended_at            55613 non-null  object \n",
      " 4   start_station_name  55607 non-null  object \n",
      " 5   start_station_id    55607 non-null  object \n",
      " 6   end_station_name    55484 non-null  object \n",
      " 7   end_station_id      55484 non-null  object \n",
      " 8   start_lat           55613 non-null  float64\n",
      " 9   start_lng           55613 non-null  float64\n",
      " 10  end_lat             55597 non-null  float64\n",
      " 11  end_lng             55597 non-null  float64\n",
      " 12  member_casual       55613 non-null  object \n",
      "dtypes: float64(4), object(9)\n",
      "memory usage: 5.5+ MB\n"
     ]
    }
   ],
   "source": [
    "df_raw = pd.read_csv('./data/JC-202402-citibike-tripdata.csv', sep=\",\")\n",
    "\n",
    "## Save the data to a parquet file\n",
    "df_raw.to_parquet('data/JC-202402-citibike-tripdata.parquet', index=False)\n",
    "df_raw = pd.read_parquet('data/JC-202402-citibike-tripdata.parquet')\n",
    "df_raw.info()"
   ]
  },
  {
   "cell_type": "code",
   "execution_count": 10,
   "id": "b170d771-bb9d-4280-a21a-591fcad876e3",
   "metadata": {},
   "outputs": [
    {
     "data": {
      "text/html": [
       "<div>\n",
       "<style scoped>\n",
       "    .dataframe tbody tr th:only-of-type {\n",
       "        vertical-align: middle;\n",
       "    }\n",
       "\n",
       "    .dataframe tbody tr th {\n",
       "        vertical-align: top;\n",
       "    }\n",
       "\n",
       "    .dataframe thead th {\n",
       "        text-align: right;\n",
       "    }\n",
       "</style>\n",
       "<table border=\"1\" class=\"dataframe\">\n",
       "  <thead>\n",
       "    <tr style=\"text-align: right;\">\n",
       "      <th></th>\n",
       "      <th>ride_id</th>\n",
       "      <th>rideable_type</th>\n",
       "      <th>started_at</th>\n",
       "      <th>ended_at</th>\n",
       "      <th>start_station_name</th>\n",
       "      <th>start_station_id</th>\n",
       "      <th>end_station_name</th>\n",
       "      <th>end_station_id</th>\n",
       "      <th>start_lat</th>\n",
       "      <th>start_lng</th>\n",
       "      <th>end_lat</th>\n",
       "      <th>end_lng</th>\n",
       "      <th>member_casual</th>\n",
       "    </tr>\n",
       "  </thead>\n",
       "  <tbody>\n",
       "    <tr>\n",
       "      <th>0</th>\n",
       "      <td>A841EF9C3617E47B</td>\n",
       "      <td>electric_bike</td>\n",
       "      <td>2024-02-12 16:17:19</td>\n",
       "      <td>2024-02-12 16:23:24</td>\n",
       "      <td>Adams St &amp; 2 St</td>\n",
       "      <td>HB407</td>\n",
       "      <td>Stevens - River Ter &amp; 6 St</td>\n",
       "      <td>HB602</td>\n",
       "      <td>40.739701</td>\n",
       "      <td>-74.036831</td>\n",
       "      <td>40.743133</td>\n",
       "      <td>-74.026989</td>\n",
       "      <td>casual</td>\n",
       "    </tr>\n",
       "    <tr>\n",
       "      <th>1</th>\n",
       "      <td>514881A61CAD0A93</td>\n",
       "      <td>electric_bike</td>\n",
       "      <td>2024-02-04 15:04:16</td>\n",
       "      <td>2024-02-04 15:40:14</td>\n",
       "      <td>Adams St &amp; 2 St</td>\n",
       "      <td>HB407</td>\n",
       "      <td>Stevens - River Ter &amp; 6 St</td>\n",
       "      <td>HB602</td>\n",
       "      <td>40.739741</td>\n",
       "      <td>-74.036824</td>\n",
       "      <td>40.743133</td>\n",
       "      <td>-74.026989</td>\n",
       "      <td>casual</td>\n",
       "    </tr>\n",
       "    <tr>\n",
       "      <th>2</th>\n",
       "      <td>511F37086CCC4510</td>\n",
       "      <td>electric_bike</td>\n",
       "      <td>2024-02-16 16:23:16</td>\n",
       "      <td>2024-02-16 16:27:16</td>\n",
       "      <td>Clinton St &amp; Newark St</td>\n",
       "      <td>HB409</td>\n",
       "      <td>Stevens - River Ter &amp; 6 St</td>\n",
       "      <td>HB602</td>\n",
       "      <td>40.737508</td>\n",
       "      <td>-74.035715</td>\n",
       "      <td>40.743133</td>\n",
       "      <td>-74.026989</td>\n",
       "      <td>casual</td>\n",
       "    </tr>\n",
       "    <tr>\n",
       "      <th>3</th>\n",
       "      <td>27A2AA8BDD0D1F6E</td>\n",
       "      <td>classic_bike</td>\n",
       "      <td>2024-02-25 17:05:01</td>\n",
       "      <td>2024-02-25 17:10:53</td>\n",
       "      <td>Adams St &amp; 2 St</td>\n",
       "      <td>HB407</td>\n",
       "      <td>Stevens - River Ter &amp; 6 St</td>\n",
       "      <td>HB602</td>\n",
       "      <td>40.739814</td>\n",
       "      <td>-74.036904</td>\n",
       "      <td>40.743133</td>\n",
       "      <td>-74.026989</td>\n",
       "      <td>member</td>\n",
       "    </tr>\n",
       "    <tr>\n",
       "      <th>4</th>\n",
       "      <td>2808ABEC0903C18E</td>\n",
       "      <td>electric_bike</td>\n",
       "      <td>2024-02-29 15:21:15</td>\n",
       "      <td>2024-02-29 15:26:03</td>\n",
       "      <td>Adams St &amp; 2 St</td>\n",
       "      <td>HB407</td>\n",
       "      <td>Stevens - River Ter &amp; 6 St</td>\n",
       "      <td>HB602</td>\n",
       "      <td>40.739712</td>\n",
       "      <td>-74.036858</td>\n",
       "      <td>40.743133</td>\n",
       "      <td>-74.026989</td>\n",
       "      <td>member</td>\n",
       "    </tr>\n",
       "  </tbody>\n",
       "</table>\n",
       "</div>"
      ],
      "text/plain": [
       "            ride_id  rideable_type           started_at             ended_at  \\\n",
       "0  A841EF9C3617E47B  electric_bike  2024-02-12 16:17:19  2024-02-12 16:23:24   \n",
       "1  514881A61CAD0A93  electric_bike  2024-02-04 15:04:16  2024-02-04 15:40:14   \n",
       "2  511F37086CCC4510  electric_bike  2024-02-16 16:23:16  2024-02-16 16:27:16   \n",
       "3  27A2AA8BDD0D1F6E   classic_bike  2024-02-25 17:05:01  2024-02-25 17:10:53   \n",
       "4  2808ABEC0903C18E  electric_bike  2024-02-29 15:21:15  2024-02-29 15:26:03   \n",
       "\n",
       "       start_station_name start_station_id            end_station_name  \\\n",
       "0         Adams St & 2 St            HB407  Stevens - River Ter & 6 St   \n",
       "1         Adams St & 2 St            HB407  Stevens - River Ter & 6 St   \n",
       "2  Clinton St & Newark St            HB409  Stevens - River Ter & 6 St   \n",
       "3         Adams St & 2 St            HB407  Stevens - River Ter & 6 St   \n",
       "4         Adams St & 2 St            HB407  Stevens - River Ter & 6 St   \n",
       "\n",
       "  end_station_id  start_lat  start_lng    end_lat    end_lng member_casual  \n",
       "0          HB602  40.739701 -74.036831  40.743133 -74.026989        casual  \n",
       "1          HB602  40.739741 -74.036824  40.743133 -74.026989        casual  \n",
       "2          HB602  40.737508 -74.035715  40.743133 -74.026989        casual  \n",
       "3          HB602  40.739814 -74.036904  40.743133 -74.026989        member  \n",
       "4          HB602  40.739712 -74.036858  40.743133 -74.026989        member  "
      ]
     },
     "execution_count": 10,
     "metadata": {},
     "output_type": "execute_result"
    }
   ],
   "source": [
    "df_raw.head()"
   ]
  },
  {
   "cell_type": "markdown",
   "id": "553940f3-0bd2-4741-ad3b-159e2445ff35",
   "metadata": {},
   "source": [
    "## Exploratory Data Analysis (EDA)"
   ]
  },
  {
   "cell_type": "code",
   "execution_count": 11,
   "id": "791adfa3-4f6e-42b0-abb1-9f480297cf06",
   "metadata": {},
   "outputs": [],
   "source": [
    "df = df_raw.copy()"
   ]
  },
  {
   "cell_type": "code",
   "execution_count": 12,
   "id": "c36b5467-168e-42b5-a50e-3fb524e4058e",
   "metadata": {},
   "outputs": [],
   "source": [
    "# Ensure date columns are in datetime format\n",
    "df['started_at'] = pd.to_datetime(df['started_at'])\n",
    "df['ended_at'] = pd.to_datetime(df['ended_at'])"
   ]
  },
  {
   "cell_type": "code",
   "execution_count": 13,
   "id": "169a7703-4607-4a8b-939a-84ada29feb28",
   "metadata": {},
   "outputs": [],
   "source": [
    "df['duration'] = df.ended_at - df.started_at\n",
    "df.duration = df.duration.apply(lambda td: td.total_seconds() / 60)"
   ]
  },
  {
   "cell_type": "code",
   "execution_count": 14,
   "id": "9f5e0f75-12f0-4388-9355-9d060d13df99",
   "metadata": {},
   "outputs": [
    {
     "data": {
      "text/plain": [
       "(55613, 14)"
      ]
     },
     "execution_count": 14,
     "metadata": {},
     "output_type": "execute_result"
    }
   ],
   "source": [
    "df.shape"
   ]
  },
  {
   "cell_type": "code",
   "execution_count": 15,
   "id": "c9b97b02-e0bb-4280-bd87-be1626dc4f07",
   "metadata": {},
   "outputs": [],
   "source": [
    "df['duration'] = df.ended_at - df.started_at\n",
    "df.duration = df.duration.apply(lambda td: td.total_seconds() / 60)\n",
    "\n",
    "df = df[(df.duration >= 1) & (df.duration <= 40)]\n",
    "\n",
    "categorical = ['rideable_type', 'member_casual', 'start_station_id','end_station_id']\n",
    "numerical = ['start_lat', 'start_lng', 'end_lat', 'end_lng']\n",
    "\n",
    "df[categorical] = df[categorical].astype(str)"
   ]
  },
  {
   "cell_type": "code",
   "execution_count": 16,
   "id": "324eb28c-5321-465a-b5d7-68e8e3289483",
   "metadata": {},
   "outputs": [
    {
     "data": {
      "text/html": [
       "<div>\n",
       "<style scoped>\n",
       "    .dataframe tbody tr th:only-of-type {\n",
       "        vertical-align: middle;\n",
       "    }\n",
       "\n",
       "    .dataframe tbody tr th {\n",
       "        vertical-align: top;\n",
       "    }\n",
       "\n",
       "    .dataframe thead th {\n",
       "        text-align: right;\n",
       "    }\n",
       "</style>\n",
       "<table border=\"1\" class=\"dataframe\">\n",
       "  <thead>\n",
       "    <tr style=\"text-align: right;\">\n",
       "      <th></th>\n",
       "      <th>ride_id</th>\n",
       "      <th>rideable_type</th>\n",
       "      <th>started_at</th>\n",
       "      <th>ended_at</th>\n",
       "      <th>start_station_name</th>\n",
       "      <th>start_station_id</th>\n",
       "      <th>end_station_name</th>\n",
       "      <th>end_station_id</th>\n",
       "      <th>start_lat</th>\n",
       "      <th>start_lng</th>\n",
       "      <th>end_lat</th>\n",
       "      <th>end_lng</th>\n",
       "      <th>member_casual</th>\n",
       "      <th>duration</th>\n",
       "    </tr>\n",
       "  </thead>\n",
       "  <tbody>\n",
       "    <tr>\n",
       "      <th>0</th>\n",
       "      <td>A841EF9C3617E47B</td>\n",
       "      <td>electric_bike</td>\n",
       "      <td>2024-02-12 16:17:19</td>\n",
       "      <td>2024-02-12 16:23:24</td>\n",
       "      <td>Adams St &amp; 2 St</td>\n",
       "      <td>HB407</td>\n",
       "      <td>Stevens - River Ter &amp; 6 St</td>\n",
       "      <td>HB602</td>\n",
       "      <td>40.739701</td>\n",
       "      <td>-74.036831</td>\n",
       "      <td>40.743133</td>\n",
       "      <td>-74.026989</td>\n",
       "      <td>casual</td>\n",
       "      <td>6.083333</td>\n",
       "    </tr>\n",
       "    <tr>\n",
       "      <th>1</th>\n",
       "      <td>514881A61CAD0A93</td>\n",
       "      <td>electric_bike</td>\n",
       "      <td>2024-02-04 15:04:16</td>\n",
       "      <td>2024-02-04 15:40:14</td>\n",
       "      <td>Adams St &amp; 2 St</td>\n",
       "      <td>HB407</td>\n",
       "      <td>Stevens - River Ter &amp; 6 St</td>\n",
       "      <td>HB602</td>\n",
       "      <td>40.739741</td>\n",
       "      <td>-74.036824</td>\n",
       "      <td>40.743133</td>\n",
       "      <td>-74.026989</td>\n",
       "      <td>casual</td>\n",
       "      <td>35.966667</td>\n",
       "    </tr>\n",
       "    <tr>\n",
       "      <th>2</th>\n",
       "      <td>511F37086CCC4510</td>\n",
       "      <td>electric_bike</td>\n",
       "      <td>2024-02-16 16:23:16</td>\n",
       "      <td>2024-02-16 16:27:16</td>\n",
       "      <td>Clinton St &amp; Newark St</td>\n",
       "      <td>HB409</td>\n",
       "      <td>Stevens - River Ter &amp; 6 St</td>\n",
       "      <td>HB602</td>\n",
       "      <td>40.737508</td>\n",
       "      <td>-74.035715</td>\n",
       "      <td>40.743133</td>\n",
       "      <td>-74.026989</td>\n",
       "      <td>casual</td>\n",
       "      <td>4.000000</td>\n",
       "    </tr>\n",
       "    <tr>\n",
       "      <th>3</th>\n",
       "      <td>27A2AA8BDD0D1F6E</td>\n",
       "      <td>classic_bike</td>\n",
       "      <td>2024-02-25 17:05:01</td>\n",
       "      <td>2024-02-25 17:10:53</td>\n",
       "      <td>Adams St &amp; 2 St</td>\n",
       "      <td>HB407</td>\n",
       "      <td>Stevens - River Ter &amp; 6 St</td>\n",
       "      <td>HB602</td>\n",
       "      <td>40.739814</td>\n",
       "      <td>-74.036904</td>\n",
       "      <td>40.743133</td>\n",
       "      <td>-74.026989</td>\n",
       "      <td>member</td>\n",
       "      <td>5.866667</td>\n",
       "    </tr>\n",
       "    <tr>\n",
       "      <th>4</th>\n",
       "      <td>2808ABEC0903C18E</td>\n",
       "      <td>electric_bike</td>\n",
       "      <td>2024-02-29 15:21:15</td>\n",
       "      <td>2024-02-29 15:26:03</td>\n",
       "      <td>Adams St &amp; 2 St</td>\n",
       "      <td>HB407</td>\n",
       "      <td>Stevens - River Ter &amp; 6 St</td>\n",
       "      <td>HB602</td>\n",
       "      <td>40.739712</td>\n",
       "      <td>-74.036858</td>\n",
       "      <td>40.743133</td>\n",
       "      <td>-74.026989</td>\n",
       "      <td>member</td>\n",
       "      <td>4.800000</td>\n",
       "    </tr>\n",
       "  </tbody>\n",
       "</table>\n",
       "</div>"
      ],
      "text/plain": [
       "            ride_id  rideable_type          started_at            ended_at  \\\n",
       "0  A841EF9C3617E47B  electric_bike 2024-02-12 16:17:19 2024-02-12 16:23:24   \n",
       "1  514881A61CAD0A93  electric_bike 2024-02-04 15:04:16 2024-02-04 15:40:14   \n",
       "2  511F37086CCC4510  electric_bike 2024-02-16 16:23:16 2024-02-16 16:27:16   \n",
       "3  27A2AA8BDD0D1F6E   classic_bike 2024-02-25 17:05:01 2024-02-25 17:10:53   \n",
       "4  2808ABEC0903C18E  electric_bike 2024-02-29 15:21:15 2024-02-29 15:26:03   \n",
       "\n",
       "       start_station_name start_station_id            end_station_name  \\\n",
       "0         Adams St & 2 St            HB407  Stevens - River Ter & 6 St   \n",
       "1         Adams St & 2 St            HB407  Stevens - River Ter & 6 St   \n",
       "2  Clinton St & Newark St            HB409  Stevens - River Ter & 6 St   \n",
       "3         Adams St & 2 St            HB407  Stevens - River Ter & 6 St   \n",
       "4         Adams St & 2 St            HB407  Stevens - River Ter & 6 St   \n",
       "\n",
       "  end_station_id  start_lat  start_lng    end_lat    end_lng member_casual  \\\n",
       "0          HB602  40.739701 -74.036831  40.743133 -74.026989        casual   \n",
       "1          HB602  40.739741 -74.036824  40.743133 -74.026989        casual   \n",
       "2          HB602  40.737508 -74.035715  40.743133 -74.026989        casual   \n",
       "3          HB602  40.739814 -74.036904  40.743133 -74.026989        member   \n",
       "4          HB602  40.739712 -74.036858  40.743133 -74.026989        member   \n",
       "\n",
       "    duration  \n",
       "0   6.083333  \n",
       "1  35.966667  \n",
       "2   4.000000  \n",
       "3   5.866667  \n",
       "4   4.800000  "
      ]
     },
     "execution_count": 16,
     "metadata": {},
     "output_type": "execute_result"
    }
   ],
   "source": [
    "df.head()"
   ]
  },
  {
   "cell_type": "code",
   "execution_count": 17,
   "id": "4031e89d-9f92-4e53-bb6c-e8727704476c",
   "metadata": {},
   "outputs": [
    {
     "data": {
      "image/png": "[encoded data removed]",
      "text/plain": [
       "<Figure size 640x480 with 2 Axes>"
      ]
     },
     "metadata": {},
     "output_type": "display_data"
    }
   ],
   "source": [
    "# Feature Importance: Correlation\n",
    "sns.heatmap(\n",
    "    df[numerical].corr().round(2), \n",
    "    mask=np.triu(np.ones_like(df[numerical].corr(), dtype=bool)), \n",
    "    annot=True, vmin=-1, vmax=1, cmap='viridis', fmt='.2f'\n",
    ")\n",
    "plt.title('Heatmap showing correlations between numerical data')\n",
    "plt.show();"
   ]
  },
  {
   "cell_type": "code",
   "execution_count": 18,
   "id": "dc28cfd3-f022-4217-b558-a1a37d8e7ac0",
   "metadata": {},
   "outputs": [
    {
     "data": {
      "image/png": "[encoded data removed]",
      "text/plain": [
       "<Figure size 640x480 with 1 Axes>"
      ]
     },
     "metadata": {},
     "output_type": "display_data"
    }
   ],
   "source": [
    "df.select_dtypes('number').plot(kind='box', vert=False);"
   ]
  },
  {
   "cell_type": "code",
   "execution_count": 19,
   "id": "d4ef110f-f58e-48df-be6b-7ac4f613dcd1",
   "metadata": {},
   "outputs": [
    {
     "data": {
      "image/png": "[encoded data removed]",
      "text/plain": [
       "<Figure size 1000x800 with 6 Axes>"
      ]
     },
     "metadata": {},
     "output_type": "display_data"
    }
   ],
   "source": [
    "df.select_dtypes('number').hist(figsize=(10, 8));"
   ]
  },
  {
   "cell_type": "markdown",
   "id": "6030dda7-d8d8-488b-b34b-01d18b0e03e4",
   "metadata": {},
   "source": [
    "## Split data into training and testing sets\n",
    "\n",
    "* Split your data in train/val/test sets with 60%/20%/20% distribution.\n",
    "* Use Scikit-Learn for that (the `train_test_split` function) and set the seed to `42`.\n",
    "* Make sure that the target value (`class`) is not in your dataframe."
   ]
  },
  {
   "cell_type": "code",
   "execution_count": 20,
   "id": "4beae5ac-5f3a-4e15-8cee-2584552e183b",
   "metadata": {},
   "outputs": [],
   "source": [
    "from sklearn.model_selection import train_test_split\n",
    "\n",
    "from sklearn.feature_extraction import DictVectorizer\n",
    "from sklearn.linear_model import LinearRegression\n",
    "from sklearn.linear_model import Lasso\n",
    "from sklearn.linear_model import Ridge\n",
    "\n",
    "from sklearn.metrics import root_mean_squared_error\n",
    "from sklearn.pipeline import Pipeline\n",
    "\n",
    "## Set the random seed for reproducibility\n",
    "SEED = 42\n",
    "np.random.seed(SEED)"
   ]
  },
  {
   "cell_type": "code",
   "execution_count": 21,
   "id": "df4b35fa-032e-4dc2-a8a3-f186df0f230b",
   "metadata": {},
   "outputs": [],
   "source": [
    "train_dicts = df[categorical + numerical].to_dict(orient='records')"
   ]
  },
  {
   "cell_type": "code",
   "execution_count": 22,
   "id": "c4433fe5-8e0a-448d-a2a0-7391b8b36a0d",
   "metadata": {},
   "outputs": [
    {
     "data": {
      "text/plain": [
       "4.6300019762566"
      ]
     },
     "execution_count": 22,
     "metadata": {},
     "output_type": "execute_result"
    }
   ],
   "source": [
    "dv = DictVectorizer()\n",
    "X_train = dv.fit_transform(train_dicts)\n",
    "\n",
    "target = 'duration'\n",
    "y_train = df[target].values\n",
    "\n",
    "lr = LinearRegression()\n",
    "lr.fit(X_train, y_train)\n",
    "\n",
    "y_pred = lr.predict(X_train)\n",
    "\n",
    "root_mean_squared_error(y_train, y_pred)"
   ]
  },
  {
   "cell_type": "code",
   "execution_count": 23,
   "id": "55ca8166-575d-422a-91fe-e5ac1e135f7f",
   "metadata": {},
   "outputs": [
    {
     "data": {
      "text/plain": [
       "['__annotations__',\n",
       " '__class__',\n",
       " '__delattr__',\n",
       " '__dict__',\n",
       " '__dir__',\n",
       " '__doc__',\n",
       " '__eq__',\n",
       " '__format__',\n",
       " '__ge__',\n",
       " '__getattribute__',\n",
       " '__getstate__',\n",
       " '__gt__',\n",
       " '__hash__',\n",
       " '__init__',\n",
       " '__init_subclass__',\n",
       " '__le__',\n",
       " '__lt__',\n",
       " '__module__',\n",
       " '__ne__',\n",
       " '__new__',\n",
       " '__reduce__',\n",
       " '__reduce_ex__',\n",
       " '__repr__',\n",
       " '__setattr__',\n",
       " '__setstate__',\n",
       " '__sizeof__',\n",
       " '__sklearn_clone__',\n",
       " '__str__',\n",
       " '__subclasshook__',\n",
       " '__weakref__',\n",
       " '_add_iterable_element',\n",
       " '_build_request_for_signature',\n",
       " '_check_feature_names',\n",
       " '_check_n_features',\n",
       " '_doc_link_module',\n",
       " '_doc_link_template',\n",
       " '_doc_link_url_param_generator',\n",
       " '_get_default_requests',\n",
       " '_get_doc_link',\n",
       " '_get_metadata_request',\n",
       " '_get_param_names',\n",
       " '_get_tags',\n",
       " '_more_tags',\n",
       " '_parameter_constraints',\n",
       " '_repr_html_',\n",
       " '_repr_html_inner',\n",
       " '_repr_mimebundle_',\n",
       " '_sklearn_auto_wrap_output_keys',\n",
       " '_transform',\n",
       " '_validate_data',\n",
       " '_validate_params',\n",
       " 'dtype',\n",
       " 'feature_names_',\n",
       " 'fit',\n",
       " 'fit_transform',\n",
       " 'get_feature_names_out',\n",
       " 'get_metadata_routing',\n",
       " 'get_params',\n",
       " 'inverse_transform',\n",
       " 'restrict',\n",
       " 'separator',\n",
       " 'set_inverse_transform_request',\n",
       " 'set_output',\n",
       " 'set_params',\n",
       " 'sort',\n",
       " 'sparse',\n",
       " 'transform',\n",
       " 'vocabulary_']"
      ]
     },
     "execution_count": 23,
     "metadata": {},
     "output_type": "execute_result"
    }
   ],
   "source": [
    "dir(dv)"
   ]
  },
  {
   "cell_type": "code",
   "execution_count": 24,
   "id": "bd55f13e-e95b-4d8f-972b-d195baffb985",
   "metadata": {},
   "outputs": [
    {
     "data": {
      "text/plain": [
       "225"
      ]
     },
     "execution_count": 24,
     "metadata": {},
     "output_type": "execute_result"
    }
   ],
   "source": [
    "len(dv.feature_names_)"
   ]
  },
  {
   "cell_type": "code",
   "execution_count": 25,
   "id": "88c8a925",
   "metadata": {},
   "outputs": [
    {
     "data": {
      "image/png": "[encoded data removed]",
      "text/plain": [
       "<Figure size 1800x900 with 1 Axes>"
      ]
     },
     "metadata": {},
     "output_type": "display_data"
    }
   ],
   "source": [
    "# The usual train-test split mumbo-jumbo\n",
    "import scikitplot as skplt\n",
    "skplt.estimators.plot_feature_importances(lr, figsize=(18,9),threshold=9,feature_names=dv.get_feature_names_out())\n",
    "plt.show()"
   ]
  },
  {
   "cell_type": "code",
   "execution_count": 26,
   "id": "9b2d0b61-4e24-45ed-b5ad-f86ba9371071",
   "metadata": {},
   "outputs": [
    {
     "name": "stderr",
     "output_type": "stream",
     "text": [
      "/tmp/ipykernel_5540/1672306066.py:1: UserWarning: \n",
      "\n",
      "`distplot` is a deprecated function and will be removed in seaborn v0.14.0.\n",
      "\n",
      "Please adapt your code to use either `displot` (a figure-level function with\n",
      "similar flexibility) or `histplot` (an axes-level function for histograms).\n",
      "\n",
      "For a guide to updating your code to use the new functions, please see\n",
      "https://gist.github.com/mwaskom/de44147ed2974457ad6372750bbe5751\n",
      "\n",
      "  sns.distplot(y_pred, label='prediction')\n",
      "/tmp/ipykernel_5540/1672306066.py:2: UserWarning: \n",
      "\n",
      "`distplot` is a deprecated function and will be removed in seaborn v0.14.0.\n",
      "\n",
      "Please adapt your code to use either `displot` (a figure-level function with\n",
      "similar flexibility) or `histplot` (an axes-level function for histograms).\n",
      "\n",
      "For a guide to updating your code to use the new functions, please see\n",
      "https://gist.github.com/mwaskom/de44147ed2974457ad6372750bbe5751\n",
      "\n",
      "  sns.distplot(y_train, label='actual')\n"
     ]
    },
    {
     "data": {
      "text/plain": [
       "<matplotlib.legend.Legend at 0xffff36b1a790>"
      ]
     },
     "execution_count": 26,
     "metadata": {},
     "output_type": "execute_result"
    },
    {
     "data": {
      "image/png": "[encoded data removed]",
      "text/plain": [
       "<Figure size 640x480 with 1 Axes>"
      ]
     },
     "metadata": {},
     "output_type": "display_data"
    }
   ],
   "source": [
    "sns.distplot(y_pred, label='prediction')\n",
    "sns.distplot(y_train, label='actual')\n",
    "\n",
    "plt.legend()"
   ]
  },
  {
   "cell_type": "code",
   "execution_count": 27,
   "id": "e91fb31d-c9b3-490a-8851-5b6c8b29d775",
   "metadata": {},
   "outputs": [],
   "source": [
    "def read_dataframe(filename):\n",
    "    if filename.endswith('.csv'):\n",
    "        df = pd.read_csv(filename, sep =\",\")\n",
    "\n",
    "        df.started_at = pd.to_datetime(df.started_at)\n",
    "        df.ended_at = pd.to_datetime(df.ended_at)\n",
    "    elif filename.endswith('.parquet'):\n",
    "        df = pd.read_parquet(filename)\n",
    "\n",
    "    df['duration'] = df.ended_at - df.started_at\n",
    "    df.duration = df.duration.apply(lambda td: td.total_seconds() / 60)\n",
    "\n",
    "    df = df[(df.duration >= 1) & (df.duration <= 60)]\n",
    "\n",
    "    categorical = ['rideable_type', 'member_casual', 'start_station_id','end_station_id']\n",
    "    df[categorical] = df[categorical].astype(str)\n",
    "    \n",
    "    return df"
   ]
  },
  {
   "cell_type": "code",
   "execution_count": 28,
   "id": "9390751e-c077-49ee-8ff2-260ac662df6e",
   "metadata": {},
   "outputs": [],
   "source": [
    "df_train = read_dataframe('./data/JC-202402-citibike-tripdata.csv')\n",
    "df_val = read_dataframe('./data/JC-202403-citibike-tripdata.csv')"
   ]
  },
  {
   "cell_type": "code",
   "execution_count": 29,
   "id": "b2cfdedc-f19b-4b34-afba-432cba3c816d",
   "metadata": {},
   "outputs": [
    {
     "data": {
      "text/plain": [
       "(54039, 63353)"
      ]
     },
     "execution_count": 29,
     "metadata": {},
     "output_type": "execute_result"
    }
   ],
   "source": [
    "len(df_train), len(df_val)"
   ]
  },
  {
   "cell_type": "code",
   "execution_count": 30,
   "id": "a659b347-fbe6-4b10-95ef-e08d02cca9f4",
   "metadata": {},
   "outputs": [],
   "source": [
    "def preprocess_dataFrame(train_df):\n",
    "    train_df['PU_DO'] = train_df['start_station_id'] + '_' + train_df['end_station_id']\n",
    "\n",
    "    categorical = ['rideable_type', 'member_casual', 'start_station_id','end_station_id','PU_DO']\n",
    "    numerical = ['start_lat', 'start_lng', 'end_lat', 'end_lng']\n",
    "    \n",
    "    train_dicts = df[categorical + numerical].to_dict(orient='records')\n",
    "    return "
   ]
  },
  {
   "cell_type": "code",
   "execution_count": 31,
   "id": "adff3b3f-7fdc-4451-8463-92c85004b75f",
   "metadata": {},
   "outputs": [],
   "source": [
    "df_train['PU_DO'] = df_train['start_station_id'] + '_' + df_train['end_station_id']\n",
    "df_val['PU_DO'] = df_val['start_station_id'] + '_' + df_val['end_station_id']"
   ]
  },
  {
   "cell_type": "code",
   "execution_count": 32,
   "id": "16171817-f832-43c8-8640-bc31a529c14a",
   "metadata": {},
   "outputs": [],
   "source": [
    "categorical = ['rideable_type', 'member_casual','PU_DO'] # PU_DO = 'PULocationID_DOLocationID'\n",
    "numerical = ['start_lat', 'start_lng', 'end_lat', 'end_lng']\n",
    "\n",
    "dv = DictVectorizer()\n",
    "\n",
    "train_dicts = df_train[categorical + numerical].to_dict(orient='records')\n",
    "X_train = dv.fit_transform(train_dicts)\n",
    "\n",
    "val_dicts = df_val[categorical + numerical].to_dict(orient='records')\n",
    "X_val = dv.transform(val_dicts)"
   ]
  },
  {
   "cell_type": "code",
   "execution_count": 33,
   "id": "f00c2d94-eb9a-4088-8bd0-c9ac889cacf5",
   "metadata": {},
   "outputs": [],
   "source": [
    "target = 'duration'\n",
    "y_train = df_train[target].values\n",
    "y_val = df_val[target].values"
   ]
  },
  {
   "cell_type": "markdown",
   "id": "b707ebbd-403b-4920-8454-d2ebcc259490",
   "metadata": {},
   "source": [
    "# Model Training"
   ]
  },
  {
   "cell_type": "code",
   "execution_count": 34,
   "id": "e4ee4ba3-b3cc-441a-ae09-e63e1f405ccb",
   "metadata": {},
   "outputs": [
    {
     "data": {
      "text/plain": [
       "6.128243038701022"
      ]
     },
     "execution_count": 34,
     "metadata": {},
     "output_type": "execute_result"
    }
   ],
   "source": [
    "lr = LinearRegression()\n",
    "lr.fit(X_train, y_train)\n",
    "\n",
    "y_pred = lr.predict(X_val)\n",
    "\n",
    "root_mean_squared_error(y_val, y_pred)"
   ]
  },
  {
   "cell_type": "markdown",
   "id": "58e8b8d6-e368-47b3-b6d2-b00360d19086",
   "metadata": {},
   "source": [
    "```python\n",
    "with open('models/lin_reg.bin', 'wb') as f_out:\n",
    "    pickle.dump((dv, lr), f_out)\n",
    "```"
   ]
  },
  {
   "cell_type": "code",
   "execution_count": 35,
   "id": "31caa730-cff6-4328-bca1-c5c4375fbe95",
   "metadata": {},
   "outputs": [
    {
     "data": {
      "text/plain": [
       "7.213445006100273"
      ]
     },
     "execution_count": 35,
     "metadata": {},
     "output_type": "execute_result"
    }
   ],
   "source": [
    "ls = Lasso(0.01)\n",
    "ls.fit(X_train, y_train)\n",
    "\n",
    "y_pred = ls.predict(X_val)\n",
    "\n",
    "root_mean_squared_error(y_val, y_pred)"
   ]
  },
  {
   "cell_type": "code",
   "execution_count": 36,
   "id": "5bc4d0a8",
   "metadata": {},
   "outputs": [
    {
     "data": {
      "image/png": "[encoded data removed]",
      "text/plain": [
       "<Figure size 1800x900 with 1 Axes>"
      ]
     },
     "metadata": {},
     "output_type": "display_data"
    }
   ],
   "source": [
    "# The usual train-test split mumbo-jumbo\n",
    "import scikitplot as skplt\n",
    "skplt.estimators.plot_feature_importances(ls,figsize=(18,9),threshold=1,feature_names = dv.feature_names_)\n",
    "plt.show()"
   ]
  },
  {
   "cell_type": "code",
   "execution_count": 62,
   "id": "ee6c2d12-7054-400d-9b70-2163b58b5eab",
   "metadata": {},
   "outputs": [
    {
     "name": "stdout",
     "output_type": "stream",
     "text": [
      "Overwriting ./pycode/preprocess_data.py\n"
     ]
    }
   ],
   "source": [
    "%%writefile ./pycode/preprocess_data.py\n",
    "\n",
    "import os\n",
    "import pickle\n",
    "import zipfile\n",
    "import requests\n",
    "\n",
    "from glob import glob\n",
    "\n",
    "import numpy as np\n",
    "import pandas as pd\n",
    "from sklearn.feature_extraction import DictVectorizer\n",
    "\n",
    "def fetch_data(raw_data_path: str, location: str, year: int, month: int) -> None:\n",
    "    \"\"\"Fetches data from the NYC Citi Bike dataset and saves it locally\"\"\"\n",
    "    filename = f'{location}{year}{month:0>2}-citibike-tripdata.csv.zip'\n",
    "    filepath = os.path.join(raw_data_path, filename)\n",
    "    url = f'https://s3.amazonaws.com/tripdata/{filename}'\n",
    "\n",
    "    # Create the destination folder if it does not exist\n",
    "    os.makedirs(raw_data_path, exist_ok=True)\n",
    "\n",
    "    # Download the data\n",
    "    response = requests.get(url)\n",
    "    if response.status_code == 200:\n",
    "        with open(filepath, \"wb\") as f_out:\n",
    "            f_out.write(response.content)\n",
    "    else:\n",
    "        print(f\"Failed to download data for {location} {year}-{month:02d}. HTTP Status Code: {response.status_code}\")\n",
    "        return\n",
    "\n",
    "    # Extract the CSV file from the ZIP file\n",
    "    with zipfile.ZipFile(filepath, 'r') as zip_ref:\n",
    "        # Filter to get only the relevant CSV files\n",
    "        csv_files = [file for file in zip_ref.namelist() if file.endswith('.csv') and not file.startswith('__MACOSX')]\n",
    "\n",
    "        if len(csv_files) != 1:\n",
    "            print(f\"Unexpected file structure in {filename}. Found files: {csv_files}\")\n",
    "            return\n",
    "\n",
    "        # Extract the CSV file to the specified directory\n",
    "        zip_ref.extract(csv_files[0], path=raw_data_path)\n",
    "        print(f\"Extracted {csv_files[0]} to {raw_data_path}\")\n",
    "\n",
    "def download_data(raw_data_path: str, locations: list, years: list, months: list) -> None:\n",
    "    try:\n",
    "        # Download data for each combination of location, year, and month\n",
    "        for loc in locations: \n",
    "            for year in years:       \n",
    "                for month in months:\n",
    "                    print(f\"Fetching data for {loc} {year}-{month:02d}...\")\n",
    "                    fetch_data(raw_data_path, loc, year, month)\n",
    "    except Exception as e:\n",
    "        print(\"An error occurred during the data download process:\", e)\n",
    "\n",
    "\n",
    "def read_data(file_name: str)-> pd.DataFrame:\n",
    "    \"\"\"Read data into DataFrame\"\"\"\n",
    "    df = pd.read_csv(file_name)\n",
    "\n",
    "    # Convert Datetime\n",
    "    df['started_at'] = pd.to_datetime(df['started_at'])\n",
    "    df['ended_at']   = pd.to_datetime(df['ended_at'])\n",
    "\n",
    "    df[\"duration\"] = df[\"ended_at\"]-df[\"started_at\"]\n",
    "    df[\"duration_minutes\"] = df[\"duration\"].dt.total_seconds()/60\n",
    "\n",
    "    # define criteria for outliers\n",
    "    lower_threshold = 1\n",
    "    upper_threshold = 60\n",
    "\n",
    "    # filter dataframe based on threshold\n",
    "    df = df[\n",
    "    (df[\"duration_minutes\"]>=lower_threshold) &\n",
    "    (df[\"duration_minutes\"]<=upper_threshold)\n",
    "    ]\n",
    "\n",
    "    # Define the categorical columns\n",
    "    categorical_features = [\n",
    "        'start_station_id',\n",
    "        'end_station_id'\n",
    "    ]\n",
    "    \n",
    "    df[categorical_features] = df[categorical_features].astype(str)\n",
    "    # print(df.shape)\n",
    "    return df\n",
    "\n",
    "def preprocess(df: pd.DataFrame, dv: DictVectorizer = None, fit_dv: bool = False):\n",
    "    def haversine_distance(row):\n",
    "        lat1, lon1, lat2, lon2 = row['start_lat'], row['start_lng'], row['end_lat'], row['end_lng']\n",
    "        # Convert latitude and longitude from degrees to radians\n",
    "        lat1_rad, lon1_rad, lat2_rad, lon2_rad = map(np.radians, [lat1, lon1, lat2, lon2])\n",
    "\n",
    "        # Radius of the Earth in kilometers\n",
    "        radius = 6371.0\n",
    "\n",
    "        # Haversine formula\n",
    "        dlat = lat2_rad - lat1_rad\n",
    "        dlon = lon2_rad - lon1_rad\n",
    "        a = np.sin(dlat / 2)**2 + np.cos(lat1_rad) * np.cos(lat2_rad) * np.sin(dlon / 2)**2\n",
    "        c = 2 * np.arctan2(np.sqrt(a), np.sqrt(1 - a))\n",
    "        distance = radius * c    \n",
    "        return distance\n",
    "\n",
    "    \"\"\"Add features to the model\"\"\"\n",
    "    # Add location ID\n",
    "    df['start_to_end_station_id'] = df['start_station_id'] + '_' + df['end_station_id']\n",
    "    categorical = [\"start_to_end_station_id\"]\n",
    "\n",
    "    # Calc Distance\n",
    "    df['trip_distance'] = df.apply(haversine_distance, axis=1).fillna(0)\n",
    "    numerical   = ['trip_distance']\n",
    "    dicts       = df[categorical + numerical].to_dict(orient='records')\n",
    "\n",
    "    if fit_dv:\n",
    "        # return sparse matrix\n",
    "        dv = DictVectorizer()\n",
    "        X = dv.fit_transform(dicts)\n",
    "    else:\n",
    "        X = dv.transform(dicts)\n",
    "        \n",
    "    # Convert X the sparse matrix  to pandas DataFrame, but too slow\n",
    "    # X = pd.DataFrame(X.toarray(), columns=dv.get_feature_names_out())\n",
    "    # X = pd.DataFrame.sparse.from_spmatrix(X, columns=dv.get_feature_names_out())\n",
    "\n",
    "    try:\n",
    "        # Extract the target\n",
    "        target = 'member_casual'\n",
    "        y = df[target].values\n",
    "    except Exception as e:\n",
    "        print(\"In preprocess Something Wrong...\", e)\n",
    "        pass\n",
    "    # print(X.shape, y.shape)\n",
    "    return (X, y), dv\n",
    "\n",
    "def dump_pickle(obj, filename: str, dest_path: str): \n",
    "    file_path = os.path.join(dest_path, filename)\n",
    "       \n",
    "    # Create dest_path folder unless it already exists\n",
    "    os.makedirs(dest_path, exist_ok=True)\n",
    "    with open(file_path, \"wb\") as f_out:\n",
    "        return pickle.dump(obj, f_out)  \n",
    "\n",
    "\n",
    "def run_data_prep(raw_data_path = \"./data\", dest_path= \"./output\",location = \"JC-\", years = \"2024\", months = \"2 3 4\")->None:\n",
    "    # parameters\n",
    "    locations = location.split(\",\")\n",
    "    years = [int(year) for year in years.split()]\n",
    "    months = [int(month) for month in months.split()]\n",
    "    # print(locations, years, months)\n",
    "\n",
    "    # download data\n",
    "    print(\"data downloading...\")\n",
    "    download_data(raw_data_path, locations, years, months)\n",
    "    print(\"data downloaded!\")\n",
    "    # print(sorted(glob(f'./data/*')))\n",
    "\n",
    "    # Load csv files\n",
    "    df_train = read_data(\n",
    "        os.path.join(raw_data_path, f'{locations[0]}{years[0]}{months[0]:0>2}-citibike-tripdata.csv')\n",
    "    )\n",
    "    df_val = read_data(\n",
    "        os.path.join(raw_data_path, f'{locations[0]}{years[0]}{months[1]:0>2}-citibike-tripdata.csv')\n",
    "    )\n",
    "    df_test = read_data(\n",
    "        os.path.join(raw_data_path, f'{locations[0]}{years[0]}{months[2]:0>2}-citibike-tripdata.csv')\n",
    "    )\n",
    "\n",
    "    # Fit the DictVectorizer and preprocess data\n",
    "    (X_train, y_train), dv = preprocess(df_train,fit_dv=True)\n",
    "    (X_test, y_test), _ = preprocess(df_test, dv)\n",
    "    (X_val, y_val), _ = preprocess(df_test, dv)\n",
    "\n",
    "    # Save DictVectorizer and datasets\n",
    "    dump_pickle(dv, \"dv.pkl\", dest_path)\n",
    "    dump_pickle((X_train, y_train), \"train.pkl\",dest_path)\n",
    "    dump_pickle((X_test, y_test), \"test.pkl\", dest_path)\n",
    "    dump_pickle((X_val, y_val), \"val.pkl\", dest_path)\n",
    "\n",
    "if __name__ == \"__main__\":\n",
    "    run_data_prep()\n"
   ]
  },
  {
   "cell_type": "code",
   "execution_count": 63,
   "id": "8b040459-2220-41d5-bf29-f9df9c1f8a1d",
   "metadata": {},
   "outputs": [
    {
     "name": "stdout",
     "output_type": "stream",
     "text": [
      "data downloading...\n",
      "Fetching data for JC- 2024-02...\n",
      "Extracted JC-202402-citibike-tripdata.csv to ./data\n",
      "Fetching data for JC- 2024-03...\n",
      "Extracted JC-202403-citibike-tripdata.csv to ./data\n",
      "Fetching data for JC- 2024-04...\n",
      "Extracted JC-202404-citibike-tripdata.csv to ./data\n",
      "data downloaded!\n"
     ]
    }
   ],
   "source": [
    "!python ./pycode/preprocess_data.py"
   ]
  },
  {
   "cell_type": "code",
   "execution_count": null,
   "id": "6c893533-31b2-49d3-adeb-7946c4f30061",
   "metadata": {},
   "outputs": [],
   "source": []
  },
  {
   "cell_type": "code",
   "execution_count": 66,
   "id": "5e267e8e-65b9-444b-ba8d-39bf5b68a5ea",
   "metadata": {},
   "outputs": [
    {
     "name": "stdout",
     "output_type": "stream",
     "text": [
      "Overwriting ./pycode/train.py\n"
     ]
    }
   ],
   "source": [
    "%%writefile ./pycode/train.py\n",
    "\n",
    "import os\n",
    "import click\n",
    "import pickle\n",
    "# from typing import Any\n",
    "\n",
    "import numpy as np\n",
    "import scipy\n",
    "\n",
    "# import xgboost as xgb\n",
    "from sklearn.ensemble import RandomForestClassifier\n",
    "from sklearn.metrics import classification_report\n",
    "from sklearn.metrics import precision_recall_fscore_support\n",
    "\n",
    "import mlflow\n",
    "\n",
    "import warnings\n",
    "# Ignore all warnings\n",
    "# warnings.filterwarnings(\"ignore\")\n",
    "# Filter the specific warning message, MLflow autologging encountered a warning\n",
    "# warnings.filterwarnings(\"ignore\", category=UserWarning, module=\"setuptools\")\n",
    "warnings.filterwarnings(\"ignore\", category=UserWarning, message=\"Setuptools is replacing distutils.\")\n",
    "\n",
    "def load_pickle(file_name: str, data_path: str) ->tuple(\n",
    "    [   \n",
    "        scipy.sparse._csr.csr_matrix,\n",
    "        np.ndarray]\n",
    "    ):\n",
    "    file_path= os.path.join(data_path, file_name)\n",
    "    with open (file_path, \"rb\") as f_in:\n",
    "        return pickle.load(f_in)\n",
    "    \n",
    "def run_train(data_path = \"./output\", model_path = \"./model\")->None:\n",
    "    \"\"\"The main training pipeline\"\"\" \n",
    "    # Load train and test Data\n",
    "    X_train, y_train = load_pickle(\"train.pkl\", data_path)\n",
    "    X_val, y_val     = load_pickle(\"val.pkl\", data_path)\n",
    "    # print(type(X_train), type(y_train))\n",
    "\n",
    "    #MLflow settings\n",
    "    # build or connect offline database\n",
    "    mlflow.set_tracking_uri(\"sqlite:///mlflow.db\")\n",
    "\n",
    "    # Connect Database Online\n",
    "    # mlflow.set_tracking_uri(\"http://127.0.0.1:5000\")\n",
    "\n",
    "    # Create a new MLflow Experiment\n",
    "    # mlflow.set_experiment(\"MLflow-experiment\")\n",
    "\n",
    "     # Build or Connect mlflow experiment\n",
    "    EXPERIMENT_NAME = \"random-forest-train\"\n",
    "    mlflow.set_experiment(EXPERIMENT_NAME)\n",
    "\n",
    "    # before your training code to enable automatic logging of sklearn metrics, params, and models\n",
    "    # mlflow.sklearn.autolog()  \n",
    "\n",
    "    with mlflow.start_run():\n",
    "        # Optional: Set some information about Model\n",
    "        mlflow.set_tag(\"developer\", \"shc\")\n",
    "        mlflow.set_tag(\"algorithm\", \"Machine Learning\")\n",
    "        mlflow.set_tag(\"train-data-path\", f'{data_path}/train.pkl')\n",
    "        mlflow.set_tag(\"valid-data-path\", f'{data_path}/val.pkl')\n",
    "        mlflow.set_tag(\"test-data-path\",  f'{data_path}/test.pkl')        \n",
    "        \n",
    "        # Set Model params information\n",
    "        params = {\"max_depth\": 9, \"class_weight\": \"balanced\", \"random_state\": 42}\n",
    "        mlflow.log_params(params)\n",
    "        \n",
    "        # Build Model        \n",
    "        rf     = RandomForestClassifier(**params)\n",
    "        rf.fit(X_train, y_train)\n",
    "        \n",
    "        # autolog_run = mlflow.last_active_run()\n",
    "\n",
    "        # Log the validation Metric to the tracking server\n",
    "        y_pred = rf.predict(X_val)\n",
    "        print(classification_report(y_val, y_pred))\n",
    "\n",
    "        pr_fscore   = precision_recall_fscore_support(y_val, y_pred, average='weighted')\n",
    "        # Extract the F1-score from the tuple\n",
    "        weighted_f1_score = pr_fscore[2]\n",
    "        mlflow.log_metric(\"weighted_f1_score\", weighted_f1_score)\n",
    "        # print(\"weighted_f1_score\", weighted_f1_score)\n",
    "                        \n",
    "        # Log Model two options\n",
    "        # Option1: Just only model in log\n",
    "        mlflow.sklearn.log_model(sk_model = rf, artifact_path = \"model_mlflow\")\n",
    "                \n",
    "        # Option 2: save Model, and Optional: Preprocessor or Pipeline in log\n",
    "        # Create model_path folder unless it already exists\n",
    "        # pathlib.Path(model_path).mkdir(exist_ok=True)\n",
    "        os.makedirs(model_path, exist_ok=True)\n",
    "        local_path = os.path.join(model_path, \"ride_duration_rf_model.pkl\")\n",
    "        with open(local_path, 'wb') as f_out:\n",
    "            pickle.dump(rf, f_out)\n",
    "            \n",
    "        # whole proccess like pickle, saved Model, Optional: Preprocessor or Pipeline\n",
    "        mlflow.log_artifact(local_path = local_path, artifact_path=\"model_pickle\")        \n",
    "        \n",
    "        print(f\"default artifacts URI: '{mlflow.get_artifact_uri()}'\")\n",
    "    return None\n",
    "\n",
    "\n",
    "if __name__ == '__main__':\n",
    "    run_train()"
   ]
  },
  {
   "cell_type": "code",
   "execution_count": 67,
   "id": "10756de3-61de-4fdd-819c-69c034f896c7",
   "metadata": {},
   "outputs": [
    {
     "name": "stdout",
     "output_type": "stream",
     "text": [
      "              precision    recall  f1-score   support\n",
      "\n",
      "      casual       0.29      0.67      0.41     17919\n",
      "      member       0.83      0.50      0.63     58493\n",
      "\n",
      "    accuracy                           0.54     76412\n",
      "   macro avg       0.56      0.59      0.52     76412\n",
      "weighted avg       0.71      0.54      0.58     76412\n",
      "\n",
      "default artifacts URI: '/home/jovyan/work/Mlops-zc/m7-project/mlruns/1/c8673c4469ce4db3b998ac9f971a16f2/artifacts'\n"
     ]
    }
   ],
   "source": [
    "!python ./pycode/train.py"
   ]
  },
  {
   "cell_type": "code",
   "execution_count": null,
   "id": "fe87f82b-56d7-4ff3-a61a-371a3edd180e",
   "metadata": {},
   "outputs": [],
   "source": [
    "# mlflow ui  --backend-store-uri sqlite:///./mlflow.db --host localhost --port 5000"
   ]
  },
  {
   "cell_type": "markdown",
   "id": "d4d3dbb6-bc77-477c-97dd-27d7876f3131",
   "metadata": {},
   "source": [
    "# hpo.py"
   ]
  },
  {
   "cell_type": "code",
   "execution_count": 82,
   "id": "e28eb95a-cdd7-4e48-bb4c-890fd2590b88",
   "metadata": {},
   "outputs": [
    {
     "name": "stdout",
     "output_type": "stream",
     "text": [
      "Overwriting ./pycode/hpo.py\n"
     ]
    }
   ],
   "source": [
    "%%writefile ./pycode/hpo.py\n",
    "\n",
    "import os\n",
    "import pickle\n",
    "import click\n",
    "# from typing import Any\n",
    "\n",
    "import numpy as np\n",
    "import scipy\n",
    "\n",
    "from sklearn.ensemble import RandomForestClassifier\n",
    "from sklearn.metrics import classification_report\n",
    "from sklearn.metrics import precision_recall_fscore_support\n",
    "\n",
    "import optuna\n",
    "from optuna.samplers import TPESampler\n",
    "\n",
    "import mlflow\n",
    "\n",
    "def load_pickle(filename: str, data_path: str)->tuple(\n",
    "    [\n",
    "        scipy.sparse._csr.csr_matrix,\n",
    "        np.ndarray\n",
    "    ]\n",
    "):\n",
    "    file_path = os.path.join(data_path, filename)\n",
    "    with open(file_path, \"rb\") as f_in:\n",
    "        return pickle.load(f_in)\n",
    "\n",
    "def run_optimization(data_path = \"./output\", num_trials = 10)-> None:\n",
    "    \"\"\"The main optimization pipeline\"\"\"\n",
    "    # Load train and test Data\n",
    "\n",
    "    X_train, y_train = load_pickle(\"train.pkl\", data_path)\n",
    "    X_val, y_val     = load_pickle(\"val.pkl\", data_path) \n",
    "    # print(type(X_train), type(y_train))\n",
    "\n",
    "    # MLflow settings\n",
    "    # Build or Connect Database Offline\n",
    "    mlflow.set_tracking_uri(\"sqlite:///mlflow.db\")\n",
    "    # Connect Database Online\n",
    "    # mlflow.set_tracking_uri(\"http://127.0.0.1:5000\")\n",
    "    \n",
    "    # Build or Connect mlflow experiment\n",
    "    HPO_EXPERIMENT_NAME = \"random-forest-hyperopt\"\n",
    "    mlflow.set_experiment(HPO_EXPERIMENT_NAME)\n",
    "\n",
    "     # before your training code to disable automatic logging of sklearn metrics, params, and models\n",
    "    mlflow.sklearn.autolog(disable=True)\n",
    "\n",
    "    # Optional: Set some information about Model\n",
    "    mlflow.set_tag(\"developer\", \"shc\")\n",
    "    mlflow.set_tag(\"algorithm\", \"Machine Learning\")\n",
    "    mlflow.set_tag(\"train-data-path\", f'{data_path}/train.pkl')\n",
    "    mlflow.set_tag(\"valid-data-path\", f'{data_path}/val.pkl')\n",
    "    mlflow.set_tag(\"test-data-path\",  f'{data_path}/test.pkl')\n",
    "\n",
    "    def objective(trial):\n",
    "        with mlflow.start_run(nested=True):\n",
    "            # define  params\n",
    "            params = {\n",
    "                'class_weight'     : trial.suggest_categorical(name = 'class_weight', choices = [\"balanced\"]),\n",
    "                'n_estimators'     : trial.suggest_int('n_estimators',70,120,step=10),\n",
    "                'max_depth'        : trial.suggest_int('max_depth', 3, 21, step=2),\n",
    "                'min_samples_split': trial.suggest_int('min_samples_split', 2, 17,step= 3),\n",
    "                'min_samples_leaf' : trial.suggest_int('min_samples_leaf', 1, 6, step=1),\n",
    "                'random_state'     : 42,\n",
    "                'n_jobs'           : -1\n",
    "            }\n",
    "             # Log the model params to the tracking server\n",
    "            mlflow.log_params(params)\n",
    "\n",
    "            # Build Model   \n",
    "            rf = RandomForestClassifier(**params)\n",
    "            rf.fit(X_train, y_train)\n",
    "            \n",
    "            # Log the validation Metric to the tracking server\n",
    "            y_pred_val = rf.predict(X_val)\n",
    "            # print(classification_report(y_val, y_pred))\n",
    "\n",
    "            pr_fscore_val   = precision_recall_fscore_support(y_val, y_pred_val, average='weighted')\n",
    "            # Extract the F1-score from the tuple\n",
    "            weighted_f1_score_val = pr_fscore_val[2]\n",
    "            mlflow.log_metric(\"weighted_f1_score_val\", weighted_f1_score_val)\n",
    "            # print(\"weighted_f1_score_val\", weighted_f1_score_val)\n",
    "        return weighted_f1_score_val\n",
    "\n",
    "    sampler = TPESampler(seed=42)\n",
    "    study   = optuna.create_study(direction=\"maximize\", sampler=sampler)\n",
    "    study.optimize(func = objective, n_trials=num_trials, n_jobs=-1)\n",
    "    \n",
    "    print(f\"default artifacts URI: '{mlflow.get_artifact_uri()}'\")\n",
    "    return None\n",
    "\n",
    "\n",
    "if __name__ == '__main__':\n",
    "    run_optimization()"
   ]
  },
  {
   "cell_type": "code",
   "execution_count": 83,
   "id": "03ab8165-d428-4907-b1d9-b1a29d1e0c7f",
   "metadata": {},
   "outputs": [
    {
     "name": "stdout",
     "output_type": "stream",
     "text": [
      "\u001b[32m[I 2024-08-24 17:33:15,677]\u001b[0m A new study created in memory with name: no-name-89057303-e22d-44e7-9b02-b57c5a581b19\u001b[0m\n",
      "\u001b[32m[I 2024-08-24 17:33:20,896]\u001b[0m Trial 2 finished with value: 0.5702930883673479 and parameters: {'class_weight': 'balanced', 'n_estimators': 70, 'max_depth': 9, 'min_samples_split': 14, 'min_samples_leaf': 3}. Best is trial 2 with value: 0.5702930883673479.\u001b[0m\n",
      "\u001b[32m[I 2024-08-24 17:33:21,817]\u001b[0m Trial 7 finished with value: 0.574228956307057 and parameters: {'class_weight': 'balanced', 'n_estimators': 80, 'max_depth': 9, 'min_samples_split': 5, 'min_samples_leaf': 2}. Best is trial 7 with value: 0.574228956307057.\u001b[0m\n",
      "\u001b[32m[I 2024-08-24 17:33:24,694]\u001b[0m Trial 5 finished with value: 0.570446289040532 and parameters: {'class_weight': 'balanced', 'n_estimators': 80, 'max_depth': 3, 'min_samples_split': 14, 'min_samples_leaf': 4}. Best is trial 7 with value: 0.574228956307057.\u001b[0m\n",
      "\u001b[32m[I 2024-08-24 17:33:24,832]\u001b[0m Trial 1 finished with value: 0.577746717664759 and parameters: {'class_weight': 'balanced', 'n_estimators': 90, 'max_depth': 19, 'min_samples_split': 5, 'min_samples_leaf': 6}. Best is trial 1 with value: 0.577746717664759.\u001b[0m\n",
      "\u001b[32m[I 2024-08-24 17:33:24,913]\u001b[0m Trial 4 finished with value: 0.5721592694606087 and parameters: {'class_weight': 'balanced', 'n_estimators': 90, 'max_depth': 9, 'min_samples_split': 17, 'min_samples_leaf': 5}. Best is trial 1 with value: 0.577746717664759.\u001b[0m\n",
      "\u001b[32m[I 2024-08-24 17:33:25,629]\u001b[0m Trial 0 finished with value: 0.5791361974104664 and parameters: {'class_weight': 'balanced', 'n_estimators': 100, 'max_depth': 19, 'min_samples_split': 2, 'min_samples_leaf': 4}. Best is trial 0 with value: 0.5791361974104664.\u001b[0m\n",
      "\u001b[32m[I 2024-08-24 17:33:25,751]\u001b[0m Trial 6 finished with value: 0.5776855574648767 and parameters: {'class_weight': 'balanced', 'n_estimators': 110, 'max_depth': 15, 'min_samples_split': 11, 'min_samples_leaf': 3}. Best is trial 0 with value: 0.5791361974104664.\u001b[0m\n",
      "\u001b[32m[I 2024-08-24 17:33:26,604]\u001b[0m Trial 3 finished with value: 0.5732124315792282 and parameters: {'class_weight': 'balanced', 'n_estimators': 110, 'max_depth': 11, 'min_samples_split': 2, 'min_samples_leaf': 4}. Best is trial 0 with value: 0.5791361974104664.\u001b[0m\n",
      "\u001b[32m[I 2024-08-24 17:33:28,357]\u001b[0m Trial 9 finished with value: 0.5765165377326016 and parameters: {'class_weight': 'balanced', 'n_estimators': 90, 'max_depth': 11, 'min_samples_split': 2, 'min_samples_leaf': 1}. Best is trial 0 with value: 0.5791361974104664.\u001b[0m\n",
      "\u001b[32m[I 2024-08-24 17:33:28,363]\u001b[0m Trial 8 finished with value: 0.5775002229159275 and parameters: {'class_weight': 'balanced', 'n_estimators': 100, 'max_depth': 15, 'min_samples_split': 11, 'min_samples_leaf': 4}. Best is trial 0 with value: 0.5791361974104664.\u001b[0m\n",
      "default artifacts URI: '/home/jovyan/work/Mlops-zc/m7-project/mlruns/2/0bb208e39a984fa29e4525a65aad97f1/artifacts'\n"
     ]
    }
   ],
   "source": [
    "!python ./pycode/hpo.py"
   ]
  },
  {
   "cell_type": "markdown",
   "id": "9c2bc4f7-8ee5-4c56-9953-b32bf8a825b7",
   "metadata": {},
   "source": [
    "# register_model.py"
   ]
  },
  {
   "cell_type": "code",
   "execution_count": 84,
   "id": "51ee3fe6-2184-4dd7-8e31-b8b280ff0884",
   "metadata": {},
   "outputs": [
    {
     "name": "stdout",
     "output_type": "stream",
     "text": [
      "Writing ./pycode/register_model.py\n"
     ]
    }
   ],
   "source": [
    "%%writefile ./pycode/register_model.py\n",
    "\n",
    "import os\n",
    "import click\n",
    "import pickle\n",
    "# from typing import Any\n",
    "\n",
    "import numpy as np\n",
    "import scipy\n",
    "\n",
    "from sklearn.ensemble import RandomForestClassifier\n",
    "from sklearn.metrics import classification_report\n",
    "from sklearn.metrics import precision_recall_fscore_support\n",
    "\n",
    "import mlflow\n",
    "from mlflow.entities import ViewType\n",
    "from mlflow.tracking import MlflowClient\n",
    "\n",
    "import warnings\n",
    "# Ignore all warnings\n",
    "# warnings.filterwarnings(\"ignore\")\n",
    "# Filter the specific warning message, MLflow autologging encountered a warning\n",
    "# warnings.filterwarnings(\"ignore\", category=UserWarning, module=\"setuptools\")\n",
    "warnings.filterwarnings(\"ignore\", category=UserWarning, message=\"Setuptools is replacing distutils.\")\n",
    "warnings.filterwarnings(\"ignore\", category=UserWarning, message=\"Distutils was imported before Setuptools,*\")\n",
    "\n",
    "\n",
    "def load_pickle(\n",
    "    filename: str, data_path: str\n",
    ") -> tuple(\n",
    "    [\n",
    "        scipy.sparse._csr.csr_matrix,\n",
    "        np.ndarray\n",
    "    ]\n",
    "):\n",
    "    file_path = os.path.join(data_path, filename)\n",
    "    with open(file_path, \"rb\") as f_in:\n",
    "        return pickle.load(f_in)\n",
    "\n",
    "\n",
    "def train_and_log_model(data_path, params, experiment_name): \n",
    "    \"\"\"The main training pipeline\"\"\"    \n",
    "    # Load train, val and test Data\n",
    "    X_train, y_train = load_pickle(\"train.pkl\", data_path)\n",
    "    X_val, y_val     = load_pickle(\"val.pkl\", data_path)\n",
    "    X_test, y_test   = load_pickle(\"test.pkl\", data_path)\n",
    "    # print(type(X_train), type(y_train))\n",
    "    \n",
    "    # MLflow settings\n",
    "    # Build or Connect Database Offline\n",
    "    mlflow.set_tracking_uri(\"sqlite:///mlflow.db\")\n",
    "    # Connect Database Online\n",
    "    # mlflow.set_tracking_uri(\"http://127.0.0.1:5000\")\n",
    "    \n",
    "    # Build or Connect mlflow experiment\n",
    "    EXPERIMENT_NAME = experiment_name\n",
    "    mlflow.set_experiment(EXPERIMENT_NAME)\n",
    "    \n",
    "    # before your training code to enable automatic logging of sklearn metrics, params, and models\n",
    "    # mlflow.sklearn.autolog()\n",
    "\n",
    "    with mlflow.start_run(nested=True):\n",
    "        # Optional: Set some information about Model\n",
    "        mlflow.set_tag(\"developer\", \"shc\")\n",
    "        mlflow.set_tag(\"algorithm\", \"Machine Learning\")\n",
    "        mlflow.set_tag(\"train-data-path\", f'{data_path}/train.pkl')\n",
    "        mlflow.set_tag(\"valid-data-path\", f'{data_path}/val.pkl')\n",
    "        mlflow.set_tag(\"test-data-path\",  f'{data_path}/test.pkl')  \n",
    "\n",
    "        # Set Model params information\n",
    "        RF_PARAMS = ['n_estimators', 'max_depth', 'min_samples_split', 'min_samples_leaf', 'random_state', 'n_jobs']\n",
    "        for param in RF_PARAMS:\n",
    "            params[param] = int(params[param])\n",
    "            \n",
    "        # Log the model params to the tracking server\n",
    "        mlflow.log_params(params)\n",
    "\n",
    "        # Build Model\n",
    "        rf = RandomForestClassifier(**params)\n",
    "        rf.fit(X_train, y_train)\n",
    "\n",
    "        # Log the validation and test Metric to the tracking server\n",
    "        y_pred_val = rf.predict(X_val)\n",
    "        y_pred_test = rf.predict(X_test)\n",
    "        pr_fscore_val   = precision_recall_fscore_support(y_val, y_pred_val, average='weighted')\n",
    "        pr_fscore_test   = precision_recall_fscore_support(y_test, y_pred_test, average='weighted')\n",
    "        # Extract the F1-score from the tuple\n",
    "        weighted_f1_score_val = pr_fscore_val[2]\n",
    "        weighted_f1_score_test = pr_fscore_test[2]\n",
    "        mlflow.log_metric(\"weighted_f1_score_val\", weighted_f1_score_val)\n",
    "        mlflow.log_metric(\"weighted_f1_score_test\", weighted_f1_score_test)\n",
    "        # print(\"weighted_f1_score_val\", weighted_f1_score_val)\n",
    "\n",
    "        # Log the model\n",
    "        # Option1: Just only model in log\n",
    "        mlflow.sklearn.log_model(sk_model = rf, artifact_path = \"model_mlflow\")\n",
    "        \n",
    "        # print(f\"default artifacts URI: '{mlflow.get_artifact_uri()}'\")\n",
    "    return None\n",
    "\n",
    "\n",
    "def run_register_model(data_path=\"./output\", top_n=5) -> None:\n",
    "    \"\"\"The main optimization pipeline\"\"\"\n",
    "    # Parameters\n",
    "    EXPERIMENT_NAME = \"random-forest-best-models\"\n",
    "    HPO_EXPERIMENT_NAME = \"random-forest-hyperopt\"\n",
    "    client = MlflowClient(\"sqlite:///mlflow.db\")\n",
    "\n",
    "    # Retrieve the top_n model runs and log the models\n",
    "    experiment = client.get_experiment_by_name(HPO_EXPERIMENT_NAME)\n",
    "    runs = client.search_runs(\n",
    "        experiment_ids=experiment.experiment_id,\n",
    "        run_view_type=ViewType.ACTIVE_ONLY,\n",
    "        max_results=top_n,\n",
    "        order_by=[\"metrics.weighted_f1_score_val DESC\"]\n",
    "    )\n",
    "    for run in runs:\n",
    "        train_and_log_model(data_path=data_path, params=run.data.params, experiment_name=EXPERIMENT_NAME)\n",
    "\n",
    "    # Select the model with the lowest test RMSE\n",
    "    experiment = client.get_experiment_by_name(EXPERIMENT_NAME)\n",
    "    best_run = client.search_runs(\n",
    "        experiment_ids=experiment.experiment_id,\n",
    "        run_view_type=ViewType.ACTIVE_ONLY,\n",
    "        max_results=1,\n",
    "        order_by=[\"metrics.weighted_f1_score_test DESC\"]\n",
    "    )[0]\n",
    "\n",
    "    # Register the best model\n",
    "    run_id     = best_run.info.run_id\n",
    "    model_uri  = f\"runs:/{run_id}/model\"\n",
    "    model_name = \"rf-best-model\"\n",
    "    mlflow.register_model(model_uri, name=model_name)\n",
    "\n",
    "    # print(\"Test weighted_f1_score_test of the best model: {:.4f}\".format(best_run.data.metrics[\"weighted_f1_score_test\"]))\n",
    "    return None\n",
    "\n",
    "\n",
    "if __name__ == '__main__':\n",
    "    run_register_model()"
   ]
  },
  {
   "cell_type": "code",
   "execution_count": 85,
   "id": "f104b0f9-4986-4bfe-a261-099795f4339b",
   "metadata": {},
   "outputs": [
    {
     "name": "stdout",
     "output_type": "stream",
     "text": [
      "2024/08/24 18:05:31 INFO mlflow.tracking.fluent: Experiment with name 'random-forest-best-models' does not exist. Creating a new experiment.\n",
      "Successfully registered model 'rf-best-model'.\n",
      "Created version '1' of model 'rf-best-model'.\n"
     ]
    }
   ],
   "source": [
    "!python ./pycode/register_model.py"
   ]
  },
  {
   "cell_type": "markdown",
   "id": "86d5a04d-5cc8-461a-9b36-7e1ff42d403e",
   "metadata": {},
   "source": [
    "# End of The Project: Part 2"
   ]
  },
  {
   "cell_type": "code",
   "execution_count": 89,
   "id": "fa912a8c-d827-41e6-b420-65673879b555",
   "metadata": {},
   "outputs": [
    {
     "data": {
      "text/plain": [
       "2314"
      ]
     },
     "execution_count": 89,
     "metadata": {},
     "output_type": "execute_result"
    }
   ],
   "source": [
    "import numpy as np\n",
    "import pandas as pd\n",
    "import matplotlib as mpl\n",
    "import matplotlib.pyplot as plt\n",
    "import seaborn as sns\n",
    "\n",
    "import scipy\n",
    "from scipy.sparse import hstack\n",
    "from scipy.stats import stats\n",
    "\n",
    "from sklearn.feature_extraction import DictVectorizer\n",
    "# from sklearn.preprocessing import StandardScaler, MinMaxScaler, RobustScaler\n",
    "from sklearn.linear_model import LinearRegression\n",
    "from sklearn.linear_model import Lasso\n",
    "from sklearn.linear_model import Ridge\n",
    "from sklearn.ensemble import RandomForestRegressor, RandomForestClassifier\n",
    "# from sklearn.ensemble import GradientBoostingRegressor, ExtraTreesRegressor\n",
    "# from sklearn.svm import LinearSVR\n",
    "from sklearn.metrics import mean_squared_error, mean_absolute_error, r2_score\n",
    "from sklearn.metrics import classification_report\n",
    "\n",
    "import xgboost as xgb\n",
    "import optuna\n",
    "from optuna.samplers import TPESampler\n",
    "from hyperopt import fmin, tpe, hp, STATUS_OK, Trials\n",
    "from hyperopt.pyll import scope\n",
    "\n",
    "import os\n",
    "import sys\n",
    "import pickle\n",
    "import zipfile\n",
    "# import boto3\n",
    "# import click\n",
    "# import pathlib\n",
    "# import argparse\n",
    "# import requests\n",
    "# import urllib.request\n",
    "from glob import glob\n",
    "# from tqdm import tqdm           # console-based\n",
    "# from tqdm.notebook import tqdm  # jupyter-based\n",
    "from tqdm.auto import tqdm        # automatically selects\n",
    "# tqdm._instances.clear()\n",
    "\n",
    "import mlflow\n",
    "import wandb\n",
    "\n",
    "# import prefect\n",
    "# from prefect import task, flow, Flow\n",
    "# from prefect.tasks import task_input_hash\n",
    "# from prefect.artifacts import create_markdown_artifact\n",
    "\n",
    "# memory management performs garbage collection \n",
    "import gc\n",
    "gc.collect()"
   ]
  },
  {
   "cell_type": "code",
   "execution_count": 90,
   "id": "e9cec572-9dad-47d2-b923-579012902746",
   "metadata": {},
   "outputs": [
    {
     "name": "stdout",
     "output_type": "stream",
     "text": [
      "mlflow.__version__:  2.14.2\n",
      "wandb.__version__ :  0.17.7\n"
     ]
    }
   ],
   "source": [
    "# from mlflow.tracking import MlflowClient\n",
    "# from mlflow.exceptions import MlflowException\n",
    "import mlflow; print(\"mlflow.__version__: \", mlflow.__version__)\n",
    "import wandb;  print(\"wandb.__version__ : \", wandb.__version__)"
   ]
  },
  {
   "cell_type": "code",
   "execution_count": 91,
   "id": "0ec05bcf-81f2-4fde-9503-f0f07d6e567b",
   "metadata": {
    "scrolled": true
   },
   "outputs": [
    {
     "name": "stdout",
     "output_type": "stream",
     "text": [
      "Traceback (most recent call last):\n",
      "  File \"/opt/conda/bin/prefect\", line 5, in <module>\n",
      "    from prefect.cli import app\n",
      "  File \"/opt/conda/lib/python3.11/site-packages/prefect/__init__.py\", line 30, in <module>\n",
      "    from prefect.deployments import deploy\n",
      "  File \"/opt/conda/lib/python3.11/site-packages/prefect/deployments/__init__.py\", line 1, in <module>\n",
      "    import prefect.deployments.base\n",
      "  File \"/opt/conda/lib/python3.11/site-packages/prefect/deployments/base.py\", line 22, in <module>\n",
      "    from prefect.client.schemas.objects import MinimalDeploymentSchedule\n",
      "  File \"/opt/conda/lib/python3.11/site-packages/prefect/client/schemas/__init__.py\", line 4, in <module>\n",
      "    from .actions import BlockTypeUpdate, StateCreate\n",
      "  File \"/opt/conda/lib/python3.11/site-packages/prefect/client/schemas/actions.py\", line 15, in <module>\n",
      "    import prefect.client.schemas.objects as objects\n",
      "  File \"/opt/conda/lib/python3.11/site-packages/prefect/client/schemas/objects.py\", line 49, in <module>\n",
      "    from prefect.settings import PREFECT_CLOUD_API_URL, PREFECT_CLOUD_UI_URL\n",
      "  File \"/opt/conda/lib/python3.11/site-packages/prefect/settings.py\", line 714, in <module>\n",
      "    PREFECT_CLOUD_URL = Setting(\n",
      "                        ^^^^^^^^\n",
      "  File \"/opt/conda/lib/python3.11/site-packages/prefect/settings.py\", line 155, in __init__\n",
      "    generate_deprecation_message(\n",
      "  File \"/opt/conda/lib/python3.11/site-packages/prefect/_internal/compatibility/deprecated.py\", line 71, in generate_deprecation_message\n",
      "    parsed_start_date = pendulum.from_format(start_date, DEPRECATED_DATEFMT)\n",
      "                        ^^^^^^^^^^^^^^^^^^^^^^^^^^^^^^^^^^^^^^^^^^^^^^^^^^^^\n",
      "  File \"/opt/conda/lib/python3.11/site-packages/pendulum/__init__.py\", line 259, in from_format\n",
      "    parts = _formatter.parse(string, fmt, now(), locale=locale)\n",
      "                                          ^^^^^\n",
      "  File \"/opt/conda/lib/python3.11/site-packages/pendulum/__init__.py\", line 211, in now\n",
      "    dt = _datetime.datetime.now(local_timezone())\n",
      "                                ^^^^^^^^^^^^^^^^\n",
      "  File \"/opt/conda/lib/python3.11/site-packages/pendulum/tz/__init__.py\", line 60, in local_timezone\n",
      "    return get_local_timezone()\n",
      "           ^^^^^^^^^^^^^^^^^^^^\n",
      "  File \"/opt/conda/lib/python3.11/site-packages/pendulum/tz/local_timezone.py\", line 35, in get_local_timezone\n",
      "    tz = _get_system_timezone()\n",
      "         ^^^^^^^^^^^^^^^^^^^^^^\n",
      "  File \"/opt/conda/lib/python3.11/site-packages/pendulum/tz/local_timezone.py\", line 63, in _get_system_timezone\n",
      "    return _get_unix_timezone()\n",
      "           ^^^^^^^^^^^^^^^^^^^^\n",
      "  File \"/opt/conda/lib/python3.11/site-packages/pendulum/tz/local_timezone.py\", line 242, in _get_unix_timezone\n",
      "    raise RuntimeError(\"Unable to find any timezone configuration\")\n",
      "RuntimeError: Unable to find any timezone configuration\n"
     ]
    }
   ],
   "source": [
    "!prefect version"
   ]
  },
  {
   "cell_type": "code",
   "execution_count": 92,
   "id": "b8f2184e-6eb9-4217-ba52-e35086defe96",
   "metadata": {},
   "outputs": [],
   "source": [
    "import os\n",
    "# Get the current working directory\n",
    "# current_dir = os.getcwd()\n",
    "\n",
    "# Create a new directory for storing data\n",
    "os.makedirs('./pycode', exist_ok=True)\n",
    "# os.makedirs('./data', exist_ok=True)\n",
    "# os.makedirs('./output', exist_ok=True)\n",
    "# os.makedirs('./model', exist_ok=True)"
   ]
  },
  {
   "cell_type": "markdown",
   "id": "2718ac22-c157-4f03-b9cc-c332975e760b",
   "metadata": {},
   "source": [
    "# orchestrate.py"
   ]
  },
  {
   "cell_type": "code",
   "execution_count": null,
   "id": "ad81d7a9-6e04-457f-b814-04352fb8a299",
   "metadata": {},
   "outputs": [],
   "source": [
    "%%writefile ./pycode/orchestrate.py\n",
    "\n",
    "import os\n",
    "import pickle\n",
    "import zipfile\n",
    "\n",
    "# import pathlib\n",
    "import requests\n",
    "import urllib.request\n",
    "from glob import glob\n",
    "from datetime import date\n",
    "from datetime import timedelta\n",
    "\n",
    "import pandas as pd\n",
    "import numpy as np\n",
    "import scipy\n",
    "import sklearn\n",
    "from sklearn.feature_extraction import DictVectorizer\n",
    "from sklearn.preprocessing import LabelEncoder\n",
    "\n",
    "import xgboost as xgb\n",
    "from sklearn.ensemble import RandomForestClassifier\n",
    "from sklearn.metrics import classification_report\n",
    "from sklearn.metrics import precision_recall_fscore_support\n",
    "\n",
    "import mlflow\n",
    "import prefect\n",
    "from prefect import task, flow\n",
    "from prefect.tasks import task_input_hash\n",
    "from prefect.artifacts import create_markdown_artifact\n",
    "\n",
    "# from prefect_aws import S3Bucket\n",
    "# from prefect_email import EmailServerCredentials, email_send_message\n",
    "\n",
    "import warnings\n",
    "# Ignore all warnings\n",
    "# warnings.filterwarnings(\"ignore\")\n",
    "# Filter the specific warning message, MLflow autologging encountered a warning\n",
    "# warnings.filterwarnings(\"ignore\", category=UserWarning, module=\"setuptools\")\n",
    "warnings.filterwarnings(\"ignore\", category=UserWarning, message=\"Setuptools is replacing distutils.\")\n",
    "\n",
    "\n"
   ]
  }
 ],
 "metadata": {
  "kernelspec": {
   "display_name": "Python 3 (ipykernel)",
   "language": "python",
   "name": "python3"
  },
  "language_info": {
   "codemirror_mode": {
    "name": "ipython",
    "version": 3
   },
   "file_extension": ".py",
   "mimetype": "text/x-python",
   "name": "python",
   "nbconvert_exporter": "python",
   "pygments_lexer": "ipython3",
   "version": "3.11.6"
  }
 },
 "nbformat": 4,
 "nbformat_minor": 5
}
